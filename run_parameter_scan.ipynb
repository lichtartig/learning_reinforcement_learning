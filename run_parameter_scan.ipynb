{
 "cells": [
  {
   "cell_type": "code",
   "execution_count": null,
   "id": "67733119-5ce0-48e0-8c4b-79d36449872e",
   "metadata": {},
   "outputs": [],
   "source": [
    "from agents import ModelHyperParams, PolicyGradient\n",
    "from environment_handler import CartPoleHandler\n",
    "from scripts import parameter_scan, TrainingHyperParams"
   ]
  },
  {
   "cell_type": "code",
   "execution_count": null,
   "id": "95d34944-81a9-49c7-8ded-13135d6cbd23",
   "metadata": {},
   "outputs": [],
   "source": [
    "def get_training_params(batch_size):\n",
    "    return TrainingHyperParams(\n",
    "        batch_size=batch_size,\n",
    "        epochs=5,#20,\n",
    "        steps_per_epoch=100*1024,\n",
    "        max_buffer_size=10*100*1024\n",
    "    )"
   ]
  },
  {
   "cell_type": "code",
   "execution_count": null,
   "id": "aa2c6597-e175-4bf1-8e49-754bca78a800",
   "metadata": {},
   "outputs": [],
   "source": [
    "make_agent_fct=lambda a, s, p: PolicyGradient(a, s, p, verbose=0)\n",
    "make_env_handler_fct=lambda: CartPoleHandler()\n",
    "\n",
    "model_params = ModelHyperParams(\n",
    "    initial_epsilon=0.5,\n",
    "    epsilon_decay_constant=0.7,\n",
    "    no_hidden_layers=2,\n",
    "    units_per_hidden_layer=24,\n",
    "    optimizer=\"adam\",\n",
    "    kernel_initializer=\"he_uniform\"\n",
    ")\n",
    "\n",
    "#batch_sizes = [32, 64, 128, 256, 512, 1024, 2048]\n",
    "batch_sizes = [512, 1024, 2048]\n",
    "hyper_param_dict = {b: (get_training_params(b), model_params) for b in batch_sizes}\n",
    "\n",
    "parameter_scan(hyper_param_dict, make_agent_fct, make_env_handler_fct, verbose=0)"
   ]
  },
  {
   "cell_type": "code",
   "execution_count": null,
   "id": "20c0e08d-b4d4-48c0-8a27-3fb58006583f",
   "metadata": {},
   "outputs": [],
   "source": []
  }
 ],
 "metadata": {
  "kernelspec": {
   "display_name": "Python 3 (ipykernel)",
   "language": "python",
   "name": "python3"
  },
  "language_info": {
   "codemirror_mode": {
    "name": "ipython",
    "version": 3
   },
   "file_extension": ".py",
   "mimetype": "text/x-python",
   "name": "python",
   "nbconvert_exporter": "python",
   "pygments_lexer": "ipython3",
   "version": "3.11.6"
  }
 },
 "nbformat": 4,
 "nbformat_minor": 5
}
