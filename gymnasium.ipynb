{
 "cells": [
  {
   "cell_type": "code",
   "execution_count": null,
   "id": "505c8732-a866-44ac-b4bf-f8b8c6068555",
   "metadata": {},
   "outputs": [],
   "source": [
    "from training import train, env\n",
    "from agents.base_neural import HyperParams\n",
    "from agents.policy_gradient import PolicyGradient\n",
    "from agents.q_learner import QLearner\n",
    "from tensorflow.keras.initializers import RandomNormal\n",
    "from tensorflow.keras.optimizers.schedules import PolynomialDecay\n",
    "from tensorflow.keras.optimizers import Adam"
   ]
  },
  {
   "cell_type": "code",
   "execution_count": null,
   "id": "2340129e-7cec-41bf-964b-f3dac115d15d",
   "metadata": {},
   "outputs": [],
   "source": [
    "batch_size=256\n",
    "for _ in range(50):\n",
    "    hyper_params = HyperParams(\n",
    "        initial_epsilon=0.6,\n",
    "        epsilon_decay_constant=0.8,\n",
    "        no_hidden_layers=2,\n",
    "        units_per_hidden_layer=24,\n",
    "        kernel_initializer=\"he_uniform\"\n",
    "    )\n",
    "    agent = PolicyGradient(env, hyper_params)\n",
    "    result = train(agent, batch_size=batch_size, epochs=1000, steps_per_epoch=10*batch_size, max_buffer_size=1000*batch_size)\n",
    "    if result:\n",
    "        break"
   ]
  },
  {
   "cell_type": "code",
   "execution_count": null,
   "id": "9ea026e6-3b96-471f-bee2-9837c871db88",
   "metadata": {},
   "outputs": [],
   "source": [
    "batch_size=256\n",
    "for _ in range(50):\n",
    "    hyper_params = HyperParams(\n",
    "        initial_epsilon=0.6,\n",
    "        epsilon_decay_constant=0.8,\n",
    "        gamma=0.5,\n",
    "        no_hidden_layers=2,\n",
    "        units_per_hidden_layer=12,\n",
    "        kernel_initializer=\"he_uniform\"\n",
    "    )\n",
    "    agent = QLearner(env, hyper_params)\n",
    "    train(agent, batch_size=batch_size, epochs=1000, steps_per_epoch=10*batch_size, max_buffer_size=1000*batch_size)"
   ]
  },
  {
   "cell_type": "code",
   "execution_count": null,
   "id": "6a5d2071-add8-4d3e-82ac-c55218c5371c",
   "metadata": {},
   "outputs": [],
   "source": []
  }
 ],
 "metadata": {
  "kernelspec": {
   "display_name": "Python 3 (ipykernel)",
   "language": "python",
   "name": "python3"
  },
  "language_info": {
   "codemirror_mode": {
    "name": "ipython",
    "version": 3
   },
   "file_extension": ".py",
   "mimetype": "text/x-python",
   "name": "python",
   "nbconvert_exporter": "python",
   "pygments_lexer": "ipython3",
   "version": "3.11.6"
  }
 },
 "nbformat": 4,
 "nbformat_minor": 5
}
