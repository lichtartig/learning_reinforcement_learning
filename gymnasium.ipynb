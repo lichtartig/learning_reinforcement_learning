{
 "cells": [
  {
   "cell_type": "code",
   "execution_count": 1,
   "id": "505c8732-a866-44ac-b4bf-f8b8c6068555",
   "metadata": {},
   "outputs": [],
   "source": [
    "from agents import DoubleQLearner, ModelHyperParams, PolicyGradient, QLearner, QLearnerWithTargetNetwork\n",
    "from environment_handler import CartPoleHandler\n",
    "from scripts import train, TrainingHyperParams"
   ]
  },
  {
   "cell_type": "code",
   "execution_count": 3,
   "id": "2340129e-7cec-41bf-964b-f3dac115d15d",
   "metadata": {},
   "outputs": [
    {
     "name": "stdout",
     "output_type": "stream",
     "text": [
      "50/50 [==============================] - 0s 1ms/step - loss: 0.6505\n",
      "Current Benchmark Result:  25.0 Previously:  None . Saving weights...\n",
      "eps:  0.35\n",
      "Flushing buffer...\n",
      "50/50 [==============================] - 0s 915us/step - loss: 0.6360\n",
      "Current Benchmark Result:  40.5 Previously:  25.0 . Saving weights...\n",
      "eps:  0.245\n",
      "Flushing buffer...\n",
      "50/50 [==============================] - 0s 953us/step - loss: 0.6328\n",
      "Current Benchmark Result:  30.5 Previously:  40.5 . Collecting more data...\n",
      "100/100 [==============================] - 0s 986us/step - loss: 0.6328\n",
      "Current Benchmark Result:  15.0 Previously:  40.5 . Collecting more data...\n",
      "150/150 [==============================] - 0s 877us/step - loss: 0.6324\n",
      "Current Benchmark Result:  17.5 Previously:  40.5 . Collecting more data...\n",
      "200/200 [==============================] - 0s 864us/step - loss: 0.6325\n",
      "Current Benchmark Result:  9.0 Previously:  40.5 . Collecting more data...\n",
      "250/250 [==============================] - 0s 1ms/step - loss: 0.6328\n",
      "300/300 [==============================] - 0s 875us/step - loss: 0.6328\n",
      "Current Benchmark Result:  10.0 Previously:  40.5 . Collecting more data...\n",
      "350/350 [==============================] - 0s 845us/step - loss: 0.6327\n",
      "Current Benchmark Result:  9.5 Previously:  40.5 . Collecting more data...\n",
      "400/400 [==============================] - 0s 884us/step - loss: 0.6328\n",
      "Current Benchmark Result:  18.0 Previously:  40.5 . Collecting more data...\n",
      "450/450 [==============================] - 0s 904us/step - loss: 0.6332\n",
      "Current Benchmark Result:  24.0 Previously:  40.5 . Collecting more data...\n",
      "500/500 [==============================] - 0s 851us/step - loss: 0.6327\n",
      "Current Benchmark Result:  10.0 Previously:  40.5 . Collecting more data...\n",
      "500/500 [==============================] - 0s 846us/step - loss: 0.6330\n",
      "Current Benchmark Result:  13.0 Previously:  40.5 . Collecting more data...\n",
      "500/500 [==============================] - 0s 829us/step - loss: 0.6328\n",
      "Current Benchmark Result:  10.0 Previously:  40.5 . Collecting more data...\n",
      "500/500 [==============================] - 0s 894us/step - loss: 0.6330\n",
      "Current Benchmark Result:  13.0 Previously:  40.5 . Collecting more data...\n",
      "500/500 [==============================] - 0s 848us/step - loss: 0.6328\n",
      "Current Benchmark Result:  23.0 Previously:  40.5 . Collecting more data...\n",
      "500/500 [==============================] - 0s 849us/step - loss: 0.6330\n",
      "Current Benchmark Result:  12.0 Previously:  40.5 . Collecting more data...\n",
      "500/500 [==============================] - 0s 839us/step - loss: 0.6328\n",
      "Current Benchmark Result:  9.0 Previously:  40.5 . Collecting more data...\n",
      "500/500 [==============================] - 0s 860us/step - loss: 0.6323\n",
      "Current Benchmark Result:  58.5 Previously:  40.5 . Saving weights...\n",
      "eps:  0.1715\n",
      "Flushing buffer...\n",
      "50/50 [==============================] - 0s 1ms/step - loss: 0.6330\n",
      "Current Benchmark Result:  33.5 Previously:  58.5 . Collecting more data...\n",
      "100/100 [==============================] - 0s 891us/step - loss: 0.6332\n",
      "Current Benchmark Result:  10.0 Previously:  58.5 . Collecting more data...\n",
      "150/150 [==============================] - 0s 875us/step - loss: 0.6334\n",
      "Agent trained. Yay!\n"
     ]
    }
   ],
   "source": [
    "model_params = ModelHyperParams(\n",
    "    initial_epsilon=0.5,\n",
    "    epsilon_decay_constant=0.7,\n",
    "    no_hidden_layers=2,\n",
    "    units_per_hidden_layer=24,\n",
    "    optimizer=\"adam\",\n",
    "    kernel_initializer=\"he_uniform\"\n",
    ")\n",
    "training_params = TrainingHyperParams(\n",
    "    batch_size=2048,\n",
    "    epochs=1000,\n",
    "    steps_per_epoch=100*1024,\n",
    "    max_buffer_size=10*100*1024\n",
    ")\n",
    "\n",
    "env_handler = CartPoleHandler()\n",
    "agent = PolicyGradient(env_handler.get_action_space(), env_handler.get_state_space(), model_params)\n",
    "\n",
    "result = train(env_handler, agent, training_params)"
   ]
  },
  {
   "cell_type": "code",
   "execution_count": 4,
   "id": "9ea026e6-3b96-471f-bee2-9837c871db88",
   "metadata": {},
   "outputs": [
    {
     "name": "stdout",
     "output_type": "stream",
     "text": [
      "10/10 [==============================] - 0s 3ms/step - loss: 0.1422\n",
      "Current Benchmark Result:  130.5 Previously:  None . Saving weights...\n",
      "eps:  0.48\n",
      "Flushing buffer...\n",
      "10/10 [==============================] - 0s 3ms/step - loss: 0.1110\n",
      "Agent trained. Yay!\n"
     ]
    }
   ],
   "source": [
    "model_params = ModelHyperParams(\n",
    "    initial_epsilon=0.5,\n",
    "    epsilon_decay_constant=0.7,\n",
    "    gamma=0.5,\n",
    "    no_hidden_layers=2,\n",
    "    units_per_hidden_layer=12,\n",
    "    kernel_initializer=\"he_uniform\"\n",
    ")\n",
    "training_params = TrainingHyperParams(\n",
    "    batch_size=256,\n",
    "    epochs=1000,\n",
    "    steps_per_epoch=2560,\n",
    "    max_buffer_size=256000\n",
    ")\n",
    "\n",
    "env_handler = CartPoleHandler()\n",
    "agent = QLearner(env_handler.get_action_space(), env_handler.get_state_space(), model_params)\n",
    "\n",
    "result = train(env_handler, agent, training_params)"
   ]
  },
  {
   "cell_type": "code",
   "execution_count": null,
   "id": "bfd50271-3c46-4179-9838-612f5647a028",
   "metadata": {},
   "outputs": [
    {
     "name": "stdout",
     "output_type": "stream",
     "text": [
      "10/10 [==============================] - 0s 5ms/step - loss: 0.1246\n",
      "Current Benchmark Result:  10.0 Previously:  None . Reinitializing...\n",
      "20/20 [==============================] - 0s 1ms/step - loss: 0.1013\n",
      "Current Benchmark Result:  10.0 Previously:  None . Reinitializing...\n",
      "30/30 [==============================] - 0s 1ms/step - loss: 0.1686\n",
      "Current Benchmark Result:  9.0 Previously:  None . Reinitializing...\n",
      "40/40 [==============================] - 0s 952us/step - loss: 0.0914\n",
      "Current Benchmark Result:  9.0 Previously:  None . Reinitializing...\n",
      "50/50 [==============================] - 0s 850us/step - loss: 0.0730\n",
      "Current Benchmark Result:  10.0 Previously:  None . Reinitializing...\n",
      "60/60 [==============================] - 0s 816us/step - loss: 0.0668\n",
      "Current Benchmark Result:  13.0 Previously:  None . Reinitializing...\n",
      "70/70 [==============================] - 0s 794us/step - loss: 0.1543\n",
      "Current Benchmark Result:  9.0 Previously:  None . Reinitializing...\n",
      "80/80 [==============================] - 0s 758us/step - loss: 0.0501\n",
      "Current Benchmark Result:  9.0 Previously:  None . Reinitializing...\n",
      "90/90 [==============================] - 0s 715us/step - loss: 0.0541\n",
      "Current Benchmark Result:  8.0 Previously:  None . Reinitializing...\n",
      "100/100 [==============================] - 0s 781us/step - loss: 0.0493\n",
      "Current Benchmark Result:  20.0 Previously:  None . Reinitializing...\n",
      "110/110 [==============================] - 0s 703us/step - loss: 0.0668\n"
     ]
    },
    {
     "name": "stderr",
     "output_type": "stream",
     "text": [
      "2024-01-05 09:02:13.108252: W tensorflow/core/data/root_dataset.cc:342] Optimization loop failed: CANCELLED: Operation was cancelled\n"
     ]
    },
    {
     "name": "stdout",
     "output_type": "stream",
     "text": [
      "Current Benchmark Result:  9.0 Previously:  None . Reinitializing...\n",
      "120/120 [==============================] - 0s 848us/step - loss: 0.0369\n",
      "Current Benchmark Result:  13.0 Previously:  None . Reinitializing...\n",
      "130/130 [==============================] - 0s 715us/step - loss: 0.0378\n",
      "Current Benchmark Result:  10.0 Previously:  None . Reinitializing...\n",
      "140/140 [==============================] - 0s 803us/step - loss: 0.0428\n",
      "Current Benchmark Result:  10.0 Previously:  None . Reinitializing...\n",
      "150/150 [==============================] - 0s 658us/step - loss: 0.1169\n"
     ]
    },
    {
     "name": "stderr",
     "output_type": "stream",
     "text": [
      "2024-01-05 09:02:26.280507: W tensorflow/core/data/root_dataset.cc:342] Optimization loop failed: CANCELLED: Operation was cancelled\n"
     ]
    },
    {
     "name": "stdout",
     "output_type": "stream",
     "text": [
      "Current Benchmark Result:  11.0 Previously:  None . Reinitializing...\n",
      "160/160 [==============================] - 0s 683us/step - loss: 0.0599\n"
     ]
    },
    {
     "name": "stderr",
     "output_type": "stream",
     "text": [
      "2024-01-05 09:02:30.135064: W tensorflow/core/data/root_dataset.cc:342] Optimization loop failed: CANCELLED: Operation was cancelled\n",
      "2024-01-05 09:02:31.204225: W tensorflow/core/data/root_dataset.cc:342] Optimization loop failed: CANCELLED: Operation was cancelled\n"
     ]
    },
    {
     "name": "stdout",
     "output_type": "stream",
     "text": [
      "Current Benchmark Result:  15.0 Previously:  None . Reinitializing...\n",
      "170/170 [==============================] - 0s 761us/step - loss: 0.0431\n",
      "Current Benchmark Result:  13.0 Previously:  None . Reinitializing...\n",
      "180/180 [==============================] - 0s 682us/step - loss: 0.0490\n"
     ]
    },
    {
     "name": "stderr",
     "output_type": "stream",
     "text": [
      "2024-01-05 09:02:44.526135: W tensorflow/core/data/root_dataset.cc:342] Optimization loop failed: CANCELLED: Operation was cancelled\n"
     ]
    },
    {
     "name": "stdout",
     "output_type": "stream",
     "text": [
      "Current Benchmark Result:  31.0 Previously:  None . Saving weights...\n",
      "Updating target weights...\n",
      "eps:  0.35\n",
      "Flushing buffer...\n",
      "10/10 [==============================] - 0s 1ms/step - loss: 0.0218\n"
     ]
    },
    {
     "name": "stderr",
     "output_type": "stream",
     "text": [
      "2024-01-05 09:02:45.588382: W tensorflow/core/data/root_dataset.cc:342] Optimization loop failed: CANCELLED: Operation was cancelled\n"
     ]
    },
    {
     "name": "stdout",
     "output_type": "stream",
     "text": [
      "Current Benchmark Result:  20.0 Previously:  31.0 . Collecting more data...\n",
      "Flushing buffer...\n",
      "10/10 [==============================] - 0s 1ms/step - loss: 0.0241\n",
      "Current Benchmark Result:  20.0 Previously:  31.0 . Collecting more data...\n",
      "Flushing buffer...\n",
      "10/10 [==============================] - 0s 1ms/step - loss: 0.0211\n",
      "Current Benchmark Result:  31.0 Previously:  31.0 . Collecting more data...\n",
      "Flushing buffer...\n",
      "10/10 [==============================] - 0s 1ms/step - loss: 0.0225\n",
      "Current Benchmark Result:  22.0 Previously:  31.0 . Collecting more data...\n",
      "Flushing buffer...\n",
      "10/10 [==============================] - 0s 1ms/step - loss: 0.0239\n",
      "Current Benchmark Result:  14.0 Previously:  31.0 . Collecting more data...\n",
      "Flushing buffer...\n",
      "10/10 [==============================] - 0s 2ms/step - loss: 0.0240\n",
      "Current Benchmark Result:  30.0 Previously:  31.0 . Collecting more data...\n",
      "Flushing buffer...\n",
      "10/10 [==============================] - 0s 1ms/step - loss: 0.0221\n",
      "Current Benchmark Result:  19.0 Previously:  31.0 . Collecting more data...\n",
      "Flushing buffer...\n",
      "10/10 [==============================] - 0s 1ms/step - loss: 0.0226\n",
      "Current Benchmark Result:  29.0 Previously:  31.0 . Collecting more data...\n",
      "Flushing buffer...\n",
      "10/10 [==============================] - 0s 1ms/step - loss: 0.0220\n",
      "Current Benchmark Result:  28.0 Previously:  31.0 . Collecting more data...\n",
      "Flushing buffer...\n",
      "10/10 [==============================] - 0s 1ms/step - loss: 0.0217\n",
      "Current Benchmark Result:  18.0 Previously:  31.0 . Collecting more data...\n",
      "Flushing buffer...\n",
      "10/10 [==============================] - 0s 1ms/step - loss: 0.0225\n",
      "Current Benchmark Result:  30.0 Previously:  31.0 . Collecting more data...\n",
      "Flushing buffer...\n",
      "10/10 [==============================] - 0s 1ms/step - loss: 0.0238\n",
      "Current Benchmark Result:  27.0 Previously:  31.0 . Collecting more data...\n",
      "Flushing buffer...\n",
      "10/10 [==============================] - 0s 1ms/step - loss: 0.0221\n"
     ]
    },
    {
     "name": "stderr",
     "output_type": "stream",
     "text": [
      "2024-01-05 09:03:46.735816: W tensorflow/core/data/root_dataset.cc:342] Optimization loop failed: CANCELLED: Operation was cancelled\n"
     ]
    }
   ],
   "source": [
    "model_params = ModelHyperParams(\n",
    "    initial_epsilon=0.5,\n",
    "    epsilon_decay_constant=0.7,\n",
    "    gamma=0.5,\n",
    "    cycles_per_target_update=2,\n",
    "    target_update_fraction=0.5,\n",
    "    no_hidden_layers=2,\n",
    "    units_per_hidden_layer=12,\n",
    "    kernel_initializer=\"he_uniform\"\n",
    ")\n",
    "training_params = TrainingHyperParams(\n",
    "    batch_size=256,\n",
    "    epochs=1000,\n",
    "    steps_per_epoch=2560,\n",
    "    max_buffer_size=256000\n",
    ")\n",
    "\n",
    "env_handler = CartPoleHandler()\n",
    "agent = QLearnerWithTargetNetwork(env_handler.get_action_space(), env_handler.get_state_space(), model_params)\n",
    "\n",
    "result = train(env_handler, agent, training_params)"
   ]
  },
  {
   "cell_type": "code",
   "execution_count": null,
   "id": "5011cf05-f2c6-496f-b2d1-42d38aa7f60c",
   "metadata": {},
   "outputs": [
    {
     "name": "stdout",
     "output_type": "stream",
     "text": [
      "Updating target weights...\n",
      "10/10 [==============================] - 0s 3ms/step - loss: 0.1068\n",
      "Current Benchmark Result:  9.0 Previously:  None . Reinitializing...\n",
      "Flushing buffer...\n",
      "10/10 [==============================] - 0s 2ms/step - loss: 0.0692\n",
      "Current Benchmark Result:  9.5 Previously:  None . Reinitializing...\n",
      "Flushing buffer...\n",
      "10/10 [==============================] - 0s 2ms/step - loss: 0.0778\n",
      "Current Benchmark Result:  168.5 Previously:  None . Saving weights...\n",
      "Updating target weights...\n",
      "eps:  0.35\n",
      "Flushing buffer...\n",
      "10/10 [==============================] - 0s 1ms/step - loss: 0.0690\n",
      "Current Benchmark Result:  160.5 Previously:  168.5 . Collecting more data...\n",
      "20/20 [==============================] - 0s 990us/step - loss: 0.0643\n",
      "30/30 [==============================] - 0s 904us/step - loss: 0.0598\n",
      "Current Benchmark Result:  156.5 Previously:  168.5 . Collecting more data...\n",
      "40/40 [==============================] - 0s 773us/step - loss: 0.0562\n"
     ]
    }
   ],
   "source": [
    "model_params = ModelHyperParams(\n",
    "    initial_epsilon=0.5,\n",
    "    epsilon_decay_constant=0.7,\n",
    "    gamma=0.5,\n",
    "    cycles_per_target_update=1,\n",
    "    target_update_fraction=0.7,\n",
    "    no_hidden_layers=2,\n",
    "    units_per_hidden_layer=12,\n",
    "    kernel_initializer=\"he_uniform\"\n",
    ")\n",
    "training_params = TrainingHyperParams(\n",
    "    batch_size=256,\n",
    "    epochs=1000,\n",
    "    steps_per_epoch=2560,\n",
    "    max_buffer_size=256000\n",
    ")\n",
    "\n",
    "env_handler = CartPoleHandler()\n",
    "agent = DoubleQLearner(env_handler.get_action_space(), env_handler.get_state_space(), model_params)\n",
    "    \n",
    "result = train(env_handler, agent, training_params)"
   ]
  },
  {
   "cell_type": "code",
   "execution_count": null,
   "id": "9a2f7ac0-337b-4c81-bc29-54efe0937f07",
   "metadata": {},
   "outputs": [],
   "source": []
  }
 ],
 "metadata": {
  "kernelspec": {
   "display_name": "Python 3 (ipykernel)",
   "language": "python",
   "name": "python3"
  },
  "language_info": {
   "codemirror_mode": {
    "name": "ipython",
    "version": 3
   },
   "file_extension": ".py",
   "mimetype": "text/x-python",
   "name": "python",
   "nbconvert_exporter": "python",
   "pygments_lexer": "ipython3",
   "version": "3.11.6"
  }
 },
 "nbformat": 4,
 "nbformat_minor": 5
}
